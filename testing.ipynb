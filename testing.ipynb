{
 "cells": [
  {
   "cell_type": "code",
   "execution_count": 3,
   "id": "fb501687",
   "metadata": {},
   "outputs": [
    {
     "name": "stdout",
     "output_type": "stream",
     "text": [
      "Response: The capital of Pakistan is Islamabad.\n"
     ]
    }
   ],
   "source": [
    "from langchain_groq import ChatGroq\n",
    "\n",
    "llm = ChatGroq(\n",
    "    model_name=\"llama-3.3-70b-versatile\",\n",
    "    temperature=0.7,\n",
    "    max_tokens=200,\n",
    "    verbose=True,\n",
    "   \n",
    "    \n",
    ")\n",
    "\n",
    "response = llm.invoke(\"What is the capital of Pakistan?\")\n",
    "print(\"Response:\", response.content)\n",
    "\n"
   ]
  },
  {
   "cell_type": "code",
   "execution_count": 5,
   "id": "41c56adc",
   "metadata": {},
   "outputs": [
    {
     "name": "stderr",
     "output_type": "stream",
     "text": [
      "C:\\Users\\TalhaRana\\.cache\\chroma\\onnx_models\\all-MiniLM-L6-v2\\onnx.tar.gz: 100%|██████████| 79.3M/79.3M [01:58<00:00, 703kiB/s]   \n"
     ]
    }
   ],
   "source": [
    "# import chromadb\n",
    "import chromadb\n",
    "\n",
    "# create a client\n",
    "client = chromadb.Client()\n",
    "\n",
    "# cate a new collection in chromadb\n",
    "collection = client.create_collection(name= \"my-collection\")\n",
    "\n",
    "\n",
    "# Add documents to the collection\n",
    "collection.add(\n",
    "  documents= [\n",
    "    \"I like eating apple everyday\",\n",
    "    \"I like my apple Iphone\",\n",
    "    \"Do you like apple?\"\n",
    "  ],\n",
    "  ids=[\"id1\", \"id2\", \"id3\"],\n",
    "  metadatas=[\n",
    "    {\"url\": \"source_to_id1\"},\n",
    "    {\"url\": \"source_to_id2\"},\n",
    "    {\"url\": \"source_to_id3\"},\n",
    "  ]\n",
    ")\n",
    "\n",
    "\n"
   ]
  },
  {
   "cell_type": "code",
   "execution_count": null,
   "id": "76c1e60f",
   "metadata": {},
   "outputs": [
    {
     "name": "stdout",
     "output_type": "stream",
     "text": [
      "{'ids': ['id1', 'id2', 'id3'], 'embeddings': None, 'documents': ['I like eating apple everyday', 'I like my apple Iphone', 'Do you like apple?'], 'uris': None, 'included': ['metadatas', 'documents'], 'data': None, 'metadatas': [{'url': 'source_to_id1'}, {'url': 'source_to_id2'}, {'url': 'source_to_id3'}]}\n"
     ]
    }
   ],
   "source": [
    "# getting the collection from the database\n",
    "print(collection.get())"
   ]
  },
  {
   "cell_type": "code",
   "execution_count": 13,
   "id": "5ffdce76",
   "metadata": {},
   "outputs": [
    {
     "name": "stdout",
     "output_type": "stream",
     "text": [
      "{'ids': ['id1'], 'embeddings': None, 'documents': ['I like eating apple everyday'], 'uris': None, 'included': ['metadatas', 'documents'], 'data': None, 'metadatas': [{'url': 'source_to_id1'}]}\n",
      "----------------------------------------------------------------------------------------------------\n",
      "{'ids': ['id2'], 'embeddings': None, 'documents': ['I like my apple Iphone'], 'uris': None, 'included': ['metadatas', 'documents'], 'data': None, 'metadatas': [{'url': 'source_to_id2'}]}\n",
      "----------------------------------------------------------------------------------------------------\n",
      "{'ids': ['id3'], 'embeddings': None, 'documents': ['Do you like apple?'], 'uris': None, 'included': ['metadatas', 'documents'], 'data': None, 'metadatas': [{'url': 'source_to_id3'}]}\n"
     ]
    }
   ],
   "source": [
    "# getting simple document from database \n",
    "print(collection.get(ids=[\"id1\"]))\n",
    "print( \"-\" *100)\n",
    "print(collection.get(ids=[\"id2\"]))\n",
    "print( \"-\" *100)\n",
    "print(collection.get(ids=[\"id3\"]))"
   ]
  },
  {
   "cell_type": "code",
   "execution_count": null,
   "id": "2be96e96",
   "metadata": {},
   "outputs": [],
   "source": []
  }
 ],
 "metadata": {
  "kernelspec": {
   "display_name": "Cold_Email_Generator-KMExtQsI",
   "language": "python",
   "name": "python3"
  },
  "language_info": {
   "codemirror_mode": {
    "name": "ipython",
    "version": 3
   },
   "file_extension": ".py",
   "mimetype": "text/x-python",
   "name": "python",
   "nbconvert_exporter": "python",
   "pygments_lexer": "ipython3",
   "version": "3.13.2"
  }
 },
 "nbformat": 4,
 "nbformat_minor": 5
}
