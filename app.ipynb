{
 "cells": [
  {
   "cell_type": "markdown",
   "id": "90fa93d6",
   "metadata": {},
   "source": [
    " - Web Scaping\n",
    " - Relevant Information\n",
    " - ChromaDB Query\n",
    " - Email Generation"
   ]
  },
  {
   "cell_type": "markdown",
   "id": "435339dc",
   "metadata": {},
   "source": []
  }
 ],
 "metadata": {
  "language_info": {
   "name": "python"
  }
 },
 "nbformat": 4,
 "nbformat_minor": 5
}
